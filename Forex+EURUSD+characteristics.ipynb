{
 "cells": [
  {
   "cell_type": "code",
   "execution_count": 24,
   "metadata": {
    "collapsed": true
   },
   "outputs": [],
   "source": [
    "#write url where data is logged:\n",
    "#for example: \n",
    "url=\"https://gist.githubusercontent.com/Neyt/736dd1336074f3d8750bf082ce38d66f/raw/7d406b85ea9a6525f48c0336b671eb32cf882d07/GBPUSD_Candlestick_15_M_BID_01.08.2013-01.09.2018.csv\"\n",
    "#(just replace whats in between \" \")\n"
   ]
  },
  {
   "cell_type": "code",
   "execution_count": 25,
   "metadata": {
    "collapsed": true
   },
   "outputs": [],
   "source": [
    "### Write Hypotesis:"
   ]
  },
  {
   "cell_type": "code",
   "execution_count": 26,
   "metadata": {},
   "outputs": [
    {
     "name": "stdout",
     "output_type": "stream",
     "text": [
      "Populating the interactive namespace from numpy and matplotlib\n"
     ]
    }
   ],
   "source": [
    "#First import libraies#First  \n",
    "import io #to request data from a link\n",
    "import requests #to request data from a link\n",
    "import csv\n",
    "import os #to see working directory where we are located\n",
    "import sys #only needed to determine Python version number\n",
    "import matplotlib #only needed to determine Matplotlib version number\n",
    "import numpy as np #for scientific computing with Python. It contains among other things: a powerful N-dimensional array object.\n",
    "import pandas as pd #You can use pandas data structures but freely draw on Numpy and Scipy functions to manipulate them\n",
    "import seaborn as sns #statistical data visualization.\n",
    "from scipy import stats #to discard outliers\n",
    "import matplotlib as mpl\n",
    "import matplotlib.pyplot as plt\n",
    "from collections import Counter\n",
    "import matplotlib.patches as mpatches\n",
    "# matplotlib Enable inline plotting\n",
    "%matplotlib inline\n",
    "# pylanb inline is a command that lets you show plots in ipython notebook.\n",
    "%pylab inline \n",
    "#sets size in all documents graph\n",
    "pylab.rcParams['figure.figsize'] = (18.5, 10.5)"
   ]
  },
  {
   "cell_type": "code",
   "execution_count": 27,
   "metadata": {},
   "outputs": [
    {
     "data": {
      "text/plain": [
       "'C:\\\\Users\\\\ney12\\\\Google Drive\\\\1) Financial Mastery\\\\3) paper assets, trading, Other assets\\\\forex\\\\Van tharp Forex trading system\\\\Ney study of van tharp forex trading system\\\\Forex-initial-analysis'"
      ]
     },
     "execution_count": 27,
     "metadata": {},
     "output_type": "execute_result"
    }
   ],
   "source": [
    "#where are we working?\n",
    "os.getcwd()"
   ]
  },
  {
   "cell_type": "code",
   "execution_count": 28,
   "metadata": {},
   "outputs": [
    {
     "name": "stdout",
     "output_type": "stream",
     "text": [
      "Python version 3.6.3 |Anaconda custom (64-bit)| (default, Oct 15 2017, 03:27:45) [MSC v.1900 64 bit (AMD64)]\n",
      "Pandas version 0.20.3\n",
      "Matplotlib version 2.1.0\n"
     ]
    }
   ],
   "source": [
    "#review what python version we are using, Pandas and Matplotlib\n",
    "print('Python version ' + sys.version)\n",
    "print('Pandas version ' + pd.__version__)\n",
    "print('Matplotlib version ' + matplotlib.__version__)"
   ]
  },
  {
   "cell_type": "code",
   "execution_count": null,
   "metadata": {
    "collapsed": true
   },
   "outputs": [],
   "source": [
    "\n",
    "#set up format#set up \n",
    "sns.set(style=\"white\", color_codes=True) #sets the background color https://stanford.edu/~mwaskom/software/seaborn/tutorial/aesthetics.html\n",
    "plt.rcParams[\"axes.labelsize\"] = 16.\n",
    "plt.rcParams[\"xtick.labelsize\"] = 14.\n",
    "plt.rcParams[\"ytick.labelsize\"] = 14.\n",
    "plt.rcParams[\"legend.fontsize\"] = 12.\n",
    "plt.rcParams[\"figure.figsize\"] = [15., 6.]"
   ]
  },
  {
   "cell_type": "code",
   "execution_count": null,
   "metadata": {},
   "outputs": [],
   "source": [
    "#import the data and read it and example#import \n",
    "#url=\"https://gist.githubusercontent.com/Neyt/736dd1336074f3d8750bf082ce38d66f/raw/7d406b85ea9a6525f48c0336b671eb32cf882d07/GBPUSD_Candlestick_15_M_BID_01.08.2013-01.09.2018.csv\"\n",
    "s=requests.get(url).content\n",
    "df=pd.read_csv(io.StringIO(s.decode('utf-8')))\n",
    "df.head(50) #we are just printing the first 6 roads"
   ]
  },
  {
   "cell_type": "code",
   "execution_count": null,
   "metadata": {},
   "outputs": [],
   "source": [
    "#variables in the spread sheet:\n",
    "df.info() #and type of data"
   ]
  },
  {
   "cell_type": "code",
   "execution_count": null,
   "metadata": {},
   "outputs": [],
   "source": [
    "#Now we are going to see how much data is in the DataFrame and how mush is incomplete (Nan)\n",
    "print (\"Number of columns (variables):\", df.shape[1]) #gives number of column count\n",
    "Number_of_players = len(df)\n",
    "print (\"Number of rows (players):\", len(df))\n",
    "print (\"how many Nan are in the DataFrame:\")\n",
    "df.isnull().sum()"
   ]
  },
  {
   "cell_type": "code",
   "execution_count": null,
   "metadata": {
    "collapsed": true
   },
   "outputs": [],
   "source": [
    "#drop the NaN\n",
    "df=df.dropna(axis=0, how='any', thresh=None, subset=None, inplace=False)"
   ]
  },
  {
   "cell_type": "code",
   "execution_count": null,
   "metadata": {},
   "outputs": [],
   "source": [
    "#now lets verify that we dropped all the incomplete data:\n",
    "    \n",
    "print (\"Number of columns (variables) after dropping Nan:\", df.shape[1]) #gives number of col count\n",
    "Number_of_players = len(df)\n",
    "print (\"Number of rows (players) after dropping Nan:\", len(df))\n",
    "print (\"how many Nan are in the DataFrame:\")\n",
    "df.isnull().sum()"
   ]
  },
  {
   "cell_type": "code",
   "execution_count": null,
   "metadata": {},
   "outputs": [],
   "source": [
    "df.describe() #we can see the data statistics"
   ]
  },
  {
   "cell_type": "code",
   "execution_count": null,
   "metadata": {},
   "outputs": [],
   "source": [
    "#create a histogram to undestrand Volume distibution\n",
    "sns.distplot(df.Volume);"
   ]
  },
  {
   "cell_type": "code",
   "execution_count": null,
   "metadata": {
    "collapsed": true
   },
   "outputs": [],
   "source": [
    "#take outliers off\n",
    "df = df[np.abs(df.Volume-df.Volume.mean())<=(3*df.Volume.std())] #keep only the ones that are within +3 to -3 standard deviations in the column 'df.height'.\n",
    "#df = df[np.abs(df.weight-df.weight.mean())<=(3*df.weight.std())]"
   ]
  },
  {
   "cell_type": "code",
   "execution_count": null,
   "metadata": {},
   "outputs": [],
   "source": [
    "df.describe() #we can see the data statistics"
   ]
  },
  {
   "cell_type": "code",
   "execution_count": null,
   "metadata": {
    "scrolled": true
   },
   "outputs": [],
   "source": [
    "#create a histogram to undestrand Volume distibution\n",
    "sns.distplot(df.Volume);"
   ]
  },
  {
   "cell_type": "code",
   "execution_count": null,
   "metadata": {},
   "outputs": [],
   "source": [
    "#describe columns with text and data.\n",
    "df.describe(include = 'all')"
   ]
  },
  {
   "cell_type": "code",
   "execution_count": null,
   "metadata": {},
   "outputs": [],
   "source": [
    "#describe only columns with text on them\n",
    "df.describe(include = ['O'])"
   ]
  },
  {
   "cell_type": "code",
   "execution_count": null,
   "metadata": {},
   "outputs": [],
   "source": [
    "#spread\n",
    "#df.plot.hist()\n",
    "#df.plot.line()\n",
    "df.plot.scatter(x='High', y='Low');\n"
   ]
  },
  {
   "cell_type": "code",
   "execution_count": null,
   "metadata": {},
   "outputs": [],
   "source": [
    "#how many candles are in the data?\n",
    "print (len(df))"
   ]
  },
  {
   "cell_type": "code",
   "execution_count": null,
   "metadata": {},
   "outputs": [],
   "source": [
    "# Here I will create a function that needs to variables, windows(number of candles to the left and to the right needed \n",
    "# to define a high or a low) and df (data)\n",
    "\n",
    "def differentWindows(windows, df):\n",
    "    window = windows  #this should be the number of rows in column \"High\"\n",
    "    itereration = 0\n",
    "    number_of_lows = 0\n",
    "    for iteration in range(window, len(df) - window): # iterate over the initial dataframe from window to len(df) - window\n",
    "        n = df['Low'][iteration] # taken the values to compare, the value to analyse\n",
    "        flag = False\n",
    "        window = windows\n",
    "        while (window > 0): # looping in that window to check all values in window\n",
    "            #print (\"1\",df['Low'][iteration-window])\n",
    "            #print (\"2\",df['Low'][iteration+window])\n",
    "            #print (\"3\", n)\n",
    "            if(df['Low'][iteration-window] >= n): # checking for values before the n\n",
    "                flag = False\n",
    "            else:\n",
    "                flag = True # if any value is smaller than the n\n",
    "                break\n",
    "            if(df['Low'][iteration+window] >= n): # checking for values after the n\n",
    "                flag = False\n",
    "            else:\n",
    "                flag = True\n",
    "                break\n",
    "            window -= 1\n",
    "        if(flag == False): # if flag is false than the value to be analysed is always lowest\n",
    "            number_of_lows += 1\n",
    "        else:\n",
    "            number_of_lows += 0\n",
    "    return number_of_lows\n",
    "#we create a list to save how many lows are there        \n",
    "list_count = []\n",
    "list_count.append(differentWindows(1,df))\n",
    "list_count.append(differentWindows(2,df))\n",
    "list_count.append(differentWindows(3,df)) \n",
    "list_count.append(differentWindows(4,df)) \n",
    "list_count.append(differentWindows(5,df)) \n",
    "list_count.append(differentWindows(6,df))\n",
    "print (list_count)\n",
    "#then we show it as a percentage\n",
    "list_count_percentage = []\n",
    "list_count_percentage.append(differentWindows(1,df)/(len(df)))\n",
    "list_count_percentage.append(differentWindows(2,df)/(len(df)))\n",
    "list_count_percentage.append(differentWindows(3,df)/(len(df)))\n",
    "list_count_percentage.append(differentWindows(4,df)/(len(df)))\n",
    "list_count_percentage.append(differentWindows(5,df)/(len(df)))\n",
    "list_count_percentage.append(differentWindows(6,df)/(len(df)))\n",
    "print (list_count_percentage)\n",
    "#print(\"{:.2%}\".format(list_count_percentage)) how do I print as a percetage without turning into a string?"
   ]
  },
  {
   "cell_type": "code",
   "execution_count": null,
   "metadata": {},
   "outputs": [],
   "source": [
    "#graph to show how many lows, defined as __X number_ of candle to the left and a candle to the right, are higher.\n",
    "# example bar 1 means that there are this many lows, with one higher candle to the left and right\n",
    "# \"bar 2\", means that there are this many lows, with 2 higher candle to the left and 2 higher candles to the right\n",
    "\n",
    "#note: this graph depends on the former calculation so if you look for 6 candels to the left and right , then the code bellow\n",
    "#should have a bigger range in order to show the graph, in this example you wuold need range(1,7) to graph 6 candels to the left and right.\n",
    "\n",
    "import matplotlib.pyplot as plt #import library to create a graph\n",
    "plt.bar(range(1, 7), list_count, align='center') #make the graph from 1 to X\n",
    "plt.xticks(range(1,7)) #clean the range\n",
    "plt.show() #show the graph\n",
    "\n",
    "plt.bar(range(1, 7), list_count_percentage, align='center') #make the graph from 1 to X\n",
    "plt.xticks(range(1,7)) #clean the range\n",
    "plt.show() #show the graph"
   ]
  },
  {
   "cell_type": "code",
   "execution_count": null,
   "metadata": {},
   "outputs": [],
   "source": [
    "#code to color the low bars only\n",
    "#you need to install ploty in your computer first https://plot.ly/python/getting-started/\n",
    "\n",
    "#source code from https://plot.ly/python/candlestick-charts/, Custom Candlestick Colors\n",
    "\n",
    "import plotly.plotly as py\n",
    "import plotly.graph_objs as go\n",
    "\n",
    "import pandas_datareader as web\n",
    "from datetime import datetime\n",
    "\n",
    "df = web.DataReader(\"aapl\", 'morningstar').reset_index()\n",
    "\n",
    "trace = go.Candlestick(x=df.Date,\n",
    "                       open=df.Open,\n",
    "                       high=df.High,\n",
    "                       low=df.Low,\n",
    "                       close=df.Close,\n",
    "                       increasing=dict(line=dict(color= '#17BECF')),\n",
    "                       decreasing=dict(line=dict(color= '#7F7F7F')))\n",
    "data = [trace]\n",
    "py.iplot(data, filename='styled_candlestick')"
   ]
  },
  {
   "cell_type": "code",
   "execution_count": null,
   "metadata": {},
   "outputs": [],
   "source": [
    "#Autocorrelation Plot\n",
    "#Autocorrelation plots are often used for checking randomness in time series. This is done by computing autocorrelations for data values at varying time lags. If time series is random, such autocorrelations should be near zero for any and all time-lag separations. If time series is non-random then one or more of the autocorrelations will be significantly non-zero. The horizontal lines displayed in the plot correspond to 95% and 99% confidence bands. The dashed line is 99% confidence band. See the Wikipedia entry for more about autocorrelation plots.\n",
    "from pandas.plotting import autocorrelation_plot\n",
    "plt.figure()\n",
    "autocorrelation_plot(df)"
   ]
  },
  {
   "cell_type": "code",
   "execution_count": null,
   "metadata": {
    "collapsed": true
   },
   "outputs": [],
   "source": []
  }
 ],
 "metadata": {
  "kernelspec": {
   "display_name": "Python 3",
   "language": "python",
   "name": "python3"
  },
  "language_info": {
   "codemirror_mode": {
    "name": "ipython",
    "version": 3
   },
   "file_extension": ".py",
   "mimetype": "text/x-python",
   "name": "python",
   "nbconvert_exporter": "python",
   "pygments_lexer": "ipython3",
   "version": "3.6.3"
  }
 },
 "nbformat": 4,
 "nbformat_minor": 2
}
